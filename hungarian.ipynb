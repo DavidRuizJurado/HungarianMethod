{
 "cells": [
  {
   "cell_type": "markdown",
   "metadata": {},
   "source": [
    "# Trabajo matematicas Aplicadas a Sistemas de Información.\n",
    "## Problemas de Asignación; Método Húngaro\n",
    "### Autores: Guillermo Ramón Soria y David Ruiz Jurado\n",
    "\n",
    " "
   ]
  },
  {
   "cell_type": "markdown",
   "metadata": {},
   "source": [
    "### La función se puede entender mejor separandola en dos pasos:\n",
    "<ul>\n",
    "<li> La función se utiliza para encontrar la fila que contiene el menor número de 0.</li> \n",
    "<li> Selecciona el número cero en la fila, y luego marca el elemento correspondiente a la fila y columna como Falso</li> \n",
    "<ul>\n",
    "\n"
   ]
  },
  {
   "cell_type": "code",
   "execution_count": 3,
   "metadata": {},
   "outputs": [],
   "source": [
    "import numpy as np"
   ]
  },
  {
   "cell_type": "code",
   "execution_count": 4,
   "metadata": {},
   "outputs": [],
   "source": [
    "def fila_de_minimos_ceros(matriz_ceros, ceros_marcados):\n",
    "    \n",
    "\t#Encontramos la fila\n",
    "\tfila_minima = [99999, -1]\n",
    "\tfor fila in range(matriz_ceros.shape[0]): \n",
    "\t\tif np.sum(matriz_ceros[fila] == True) > 0 and fila_minima[0] > np.sum(matriz_ceros[fila] == True):\n",
    "\t\t\tfila_minima = [np.sum(matriz_ceros[fila] == True), fila]\n",
    "\n",
    "\t# Marcamos la posicion de los ceros como falsa\n",
    "\tzero_index = np.where(matriz_ceros[fila_minima[1]] == True)[0][0]\n",
    "\tceros_marcados.append((fila_minima[1], zero_index))\n",
    "\tmatriz_ceros[fila_minima[1], :] = False\n",
    "\tmatriz_ceros[:, zero_index] = False\n"
   ]
  },
  {
   "cell_type": "markdown",
   "metadata": {},
   "source": [
    "Encontrar las posibles soluciones para el problema de asignación lineal"
   ]
  },
  {
   "cell_type": "code",
   "execution_count": 24,
   "metadata": {},
   "outputs": [],
   "source": [
    "def matriz_marca(matriz):\n",
    "\n",
    "    #Se transforma la matriz a booleana donde (0 = True, others = False)\n",
    "    matriz_actual = matriz\n",
    "    matriz_ceros_booleanos = (matriz_actual == 0)\n",
    "    matriz_ceros_booleanos_copy = matriz_ceros_booleanos.copy()\n",
    "\t\t\n",
    "    #Se guardan posibles soluciones en funcion de la variable ceros_marcados\n",
    "    ceros_marcados = []\n",
    "    while (True in matriz_ceros_booleanos_copy):\n",
    "        fila_de_minimos_ceros(matriz_ceros_booleanos_copy, ceros_marcados)\n",
    "\n",
    "    #Se guardan filas y columnas de manera independiente\n",
    "    ceros_marcados_fila = []\n",
    "    ceros_marcados_columna = []\n",
    "    for i in range(len(ceros_marcados)):\n",
    "        ceros_marcados_fila.append(ceros_marcados[i][0])\n",
    "        ceros_marcados_columna.append(ceros_marcados[i][1])\n",
    "    #paso 2-2-1\n",
    "    filas_no_marcadas = list(set(range(matriz_actual.shape[0])) - set(ceros_marcados_fila))\n",
    "    \n",
    "    columnas_marcadas = []\n",
    "    comprobante = True\n",
    "    while comprobante:\n",
    "        comprobante = False\n",
    "        for i in range(len(filas_no_marcadas)):\n",
    "            matriz_fila = matriz_ceros_booleanos[filas_no_marcadas[i], :]\n",
    "            for j in range(matriz_fila.shape[0]):\n",
    "                #paso 2-2-2\n",
    "                if matriz_fila[j] == True and j not in columnas_marcadas:\n",
    "                    #paso 2-2-3\n",
    "                    columnas_marcadas.append(j)\n",
    "                    comprobante = True\n",
    "\n",
    "        for fila, columna in ceros_marcados:\n",
    "            #paso 2-2-4\n",
    "            if fila not in filas_no_marcadas and columna in columnas_marcadas:\n",
    "                #paso 2-2-5\n",
    "                filas_no_marcadas.append(fila)\n",
    "                comprobante = True\n",
    "    #paso 2-2-6\n",
    "    filas_marcadas = list(set(range(matriz.shape[0])) - set(filas_no_marcadas))\n",
    "    \n",
    "    return(ceros_marcados, filas_marcadas, columnas_marcadas)"
   ]
  },
  {
   "cell_type": "markdown",
   "metadata": {},
   "source": [
    "Ajuste de matriz"
   ]
  },
  {
   "cell_type": "code",
   "execution_count": 25,
   "metadata": {},
   "outputs": [],
   "source": [
    "def matriz_de_ajuste(mat, recubrimiento_filas, recubrimiento_columnas):\n",
    "\tmatriz_actual = mat\n",
    "\tvalores_no_cero = []\n",
    "\n",
    "\t#paso 4-1\n",
    "\tfor fila in range(len(matriz_actual)):\n",
    "\t\tif fila not in recubrimiento_filas:\n",
    "\t\t\tfor i in range(len(matriz_actual[fila])):\n",
    "\t\t\t\tif i not in recubrimiento_columnas:\n",
    "\t\t\t\t\tvalores_no_cero.append(matriz_actual[fila][i])\n",
    "\tmininimo = min(valores_no_cero)\n",
    "\n",
    "\t#paso 4-2\n",
    "\tfor fila in range(len(matriz_actual)):\n",
    "\t\tif fila not in recubrimiento_filas:\n",
    "\t\t\tfor i in range(len(matriz_actual[fila])):\n",
    "\t\t\t\tif i not in recubrimiento_columnas:\n",
    "\t\t\t\t\tmatriz_actual[fila, i] = matriz_actual[fila, i] - mininimo\n",
    "\t#paso 4-3\n",
    "\tfor fila in range(len(recubrimiento_filas)):  \n",
    "\t\tfor columna in range(len(recubrimiento_columnas)):\n",
    "\t\t\tmatriz_actual[recubrimiento_filas[fila], recubrimiento_columnas[columna]] = matriz_actual[recubrimiento_filas[fila], recubrimiento_columnas[columna]] + mininimo\n",
    "\treturn matriz_actual"
   ]
  },
  {
   "cell_type": "code",
   "execution_count": 26,
   "metadata": {},
   "outputs": [],
   "source": [
    "\n",
    "def algoritmo_hungaro(mat): \n",
    "\tdim = mat.shape[0]\n",
    "\tmatriz_actual = mat\n",
    "\n",
    "\tfor fila in range(mat.shape[0]): \n",
    "\t\tmatriz_actual[fila] = matriz_actual[fila] - np.min(matriz_actual[fila])\n",
    "\t\n",
    "\tfor columna in range(mat.shape[1]): \n",
    "\t\tmatriz_actual[:,columna] = matriz_actual[:,columna] - np.min(matriz_actual[:,columna])\n",
    "\tcuenta = 0\n",
    "\twhile cuenta < dim:\n",
    "\t\t#paso 2 y 3\n",
    "\t\tposiciones_respuesta, filas_marcadas, columnas_marcadas = matriz_marca(matriz_actual)\n",
    "\t\tcuenta = len(filas_marcadas) + len(columnas_marcadas)\n",
    "\n",
    "\t\tif cuenta < dim:\n",
    "\t\t\tmatriz_actual = matriz_de_ajuste(matriz_actual, filas_marcadas, columnas_marcadas)\n",
    "\n",
    "\treturn posiciones_respuesta\n"
   ]
  },
  {
   "cell_type": "code",
   "execution_count": 15,
   "metadata": {},
   "outputs": [],
   "source": [
    "def calculo_solucion(mat, pos):\n",
    "\ttotal = 0\n",
    "\tmatriz_solucion = np.zeros((mat.shape[0], mat.shape[1]))\n",
    "\tfor i in range(len(pos)):\n",
    "\t\ttotal += mat[pos[i][0], pos[i][1]]\n",
    "\t\tmatriz_solucion[pos[i][0], pos[i][1]] = mat[pos[i][0], pos[i][1]]\n",
    "\treturn total, matriz_solucion"
   ]
  },
  {
   "cell_type": "markdown",
   "metadata": {},
   "source": [
    "# Algoritmo Húngaro: \n",
    "Finding the minimum value in linear assignment problem.\n",
    "Therefore, we can find the minimum value set in net matrix \n",
    "by using Hungarian Algorithm. In other words, the maximum value\n",
    "and elements set in cost matrix are available."
   ]
  },
  {
   "cell_type": "code",
   "execution_count": 27,
   "metadata": {},
   "outputs": [
    {
     "name": "stdout",
     "output_type": "stream",
     "text": [
      "Resultado del problemas de asignacion: 19\n",
      "\n",
      "Matriz:\n",
      "[[4. 0. 0. 0.]\n",
      " [0. 3. 0. 0.]\n",
      " [0. 0. 0. 5.]\n",
      " [0. 0. 7. 0.]]\n"
     ]
    }
   ],
   "source": [
    "import numpy as np\n",
    "# La matriz que quieres encontrar la suma minima:\n",
    "cost_matrix = np.array([\n",
    "    [4,2,5,7],\n",
    "    [8,3,10,8],\n",
    "    [12,5,4,5],\n",
    "    [6,3,7,14]\n",
    "])\n",
    "posicion_respuesta = algoritmo_hungaro(cost_matrix.copy())\n",
    "respuesta, matriz_respuesta = calculo_solucion(cost_matrix, posicion_respuesta)\n",
    "\n",
    "print(f\"Resultado del problemas de asignacion: {respuesta:.0f}\\n\\nMatriz:\\n{matriz_respuesta}\")\n"
   ]
  },
  {
   "cell_type": "code",
   "execution_count": null,
   "metadata": {},
   "outputs": [],
   "source": []
  }
 ],
 "metadata": {
  "interpreter": {
   "hash": "570feb405e2e27c949193ac68f46852414290d515b0ba6e5d90d076ed2284471"
  },
  "kernelspec": {
   "display_name": "Python 3.8.5 64-bit",
   "language": "python",
   "name": "python3"
  },
  "language_info": {
   "codemirror_mode": {
    "name": "ipython",
    "version": 3
   },
   "file_extension": ".py",
   "mimetype": "text/x-python",
   "name": "python",
   "nbconvert_exporter": "python",
   "pygments_lexer": "ipython3",
   "version": "3.8.5"
  },
  "orig_nbformat": 4
 },
 "nbformat": 4,
 "nbformat_minor": 2
}
